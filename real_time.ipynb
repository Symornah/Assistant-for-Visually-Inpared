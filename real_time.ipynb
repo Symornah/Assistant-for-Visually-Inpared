{
 "cells": [
  {
   "cell_type": "code",
   "execution_count": 1,
   "metadata": {},
   "outputs": [],
   "source": [
    "import cv2\n",
    "import numpy as np\n",
    "import matplotlib.pyplot as plt\n",
    "from gtts import gTTS\n",
    "import os"
   ]
  },
  {
   "cell_type": "code",
   "execution_count": 2,
   "metadata": {},
   "outputs": [],
   "source": [
    "yolo = cv2.dnn.readNet(\"./yolov5.weights\" , \"./yolov5.cfg\")"
   ]
  },
  {
   "cell_type": "code",
   "execution_count": 3,
   "metadata": {},
   "outputs": [],
   "source": [
    "classes = []\n",
    "with open(\"./coco.names\",'r') as f:\n",
    "  classes = f.read().splitlines()"
   ]
  },
  {
   "cell_type": "code",
   "execution_count": 4,
   "metadata": {},
   "outputs": [
    {
     "data": {
      "text/plain": [
       "80"
      ]
     },
     "execution_count": 4,
     "metadata": {},
     "output_type": "execute_result"
    }
   ],
   "source": [
    "len(classes)"
   ]
  },
  {
   "cell_type": "code",
   "execution_count": 5,
   "metadata": {},
   "outputs": [
    {
     "name": "stderr",
     "output_type": "stream",
     "text": [
      "c:\\Users\\2001r\\AppData\\Local\\Programs\\Python\\Python311\\Lib\\site-packages\\tqdm\\auto.py:21: TqdmWarning: IProgress not found. Please update jupyter and ipywidgets. See https://ipywidgets.readthedocs.io/en/stable/user_install.html\n",
      "  from .autonotebook import tqdm as notebook_tqdm\n",
      "\n",
      "0: 480x640 1 person, 1 bottle, 1 chair, 218.6ms\n",
      "Speed: 7.5ms preprocess, 218.6ms inference, 15.9ms postprocess per image at shape (1, 3, 480, 640)\n",
      "\n",
      "0: 480x640 1 person, 133.4ms\n"
     ]
    },
    {
     "name": "stdout",
     "output_type": "stream",
     "text": [
      "Confidence ---> 0.73\n",
      "Class name --> person\n",
      "Confidence ---> 0.29\n",
      "Class name --> bottle\n",
      "Confidence ---> 0.28\n",
      "Class name --> chair\n",
      "Confidence ---> 0.87\n",
      "Class name --> person\n"
     ]
    },
    {
     "name": "stderr",
     "output_type": "stream",
     "text": [
      "Speed: 3.6ms preprocess, 133.4ms inference, 4.0ms postprocess per image at shape (1, 3, 480, 640)\n",
      "\n",
      "0: 480x640 1 person, 127.3ms\n",
      "Speed: 2.1ms preprocess, 127.3ms inference, 3.0ms postprocess per image at shape (1, 3, 480, 640)\n",
      "\n",
      "0: 480x640 1 person, 115.3ms\n",
      "Speed: 3.0ms preprocess, 115.3ms inference, 2.0ms postprocess per image at shape (1, 3, 480, 640)\n",
      "\n"
     ]
    },
    {
     "name": "stdout",
     "output_type": "stream",
     "text": [
      "Confidence ---> 0.85\n",
      "Class name --> person\n",
      "Confidence ---> 0.83\n",
      "Class name --> person\n"
     ]
    },
    {
     "name": "stderr",
     "output_type": "stream",
     "text": [
      "0: 480x640 2 persons, 120.3ms\n",
      "Speed: 1.0ms preprocess, 120.3ms inference, 0.9ms postprocess per image at shape (1, 3, 480, 640)\n",
      "\n",
      "0: 480x640 2 persons, 124.1ms\n",
      "Speed: 1.1ms preprocess, 124.1ms inference, 2.0ms postprocess per image at shape (1, 3, 480, 640)\n",
      "\n"
     ]
    },
    {
     "name": "stdout",
     "output_type": "stream",
     "text": [
      "Confidence ---> 0.79\n",
      "Class name --> person\n",
      "Confidence ---> 0.53\n",
      "Class name --> person\n",
      "Confidence ---> 0.69\n",
      "Class name --> person\n",
      "Confidence ---> 0.44\n",
      "Class name --> person\n"
     ]
    },
    {
     "name": "stderr",
     "output_type": "stream",
     "text": [
      "0: 480x640 2 persons, 117.8ms\n",
      "Speed: 4.0ms preprocess, 117.8ms inference, 2.0ms postprocess per image at shape (1, 3, 480, 640)\n",
      "\n",
      "0: 480x640 2 persons, 120.0ms\n",
      "Speed: 2.0ms preprocess, 120.0ms inference, 1.0ms postprocess per image at shape (1, 3, 480, 640)\n",
      "\n"
     ]
    },
    {
     "name": "stdout",
     "output_type": "stream",
     "text": [
      "Confidence ---> 0.69\n",
      "Class name --> person\n",
      "Confidence ---> 0.44\n",
      "Class name --> person\n",
      "Confidence ---> 0.85\n",
      "Class name --> person\n",
      "Confidence ---> 0.46\n",
      "Class name --> person\n"
     ]
    },
    {
     "name": "stderr",
     "output_type": "stream",
     "text": [
      "0: 480x640 1 person, 1 teddy bear, 120.9ms\n",
      "Speed: 2.1ms preprocess, 120.9ms inference, 2.0ms postprocess per image at shape (1, 3, 480, 640)\n",
      "\n",
      "0: 480x640 1 person, 1 bottle, 1 teddy bear, 116.0ms\n",
      "Speed: 2.0ms preprocess, 116.0ms inference, 1.0ms postprocess per image at shape (1, 3, 480, 640)\n",
      "\n"
     ]
    },
    {
     "name": "stdout",
     "output_type": "stream",
     "text": [
      "Confidence ---> 0.8\n",
      "Class name --> person\n",
      "Confidence ---> 0.38\n",
      "Class name --> teddy bear\n",
      "Confidence ---> 0.84\n",
      "Class name --> person\n",
      "Confidence ---> 0.44\n",
      "Class name --> teddy bear\n",
      "Confidence ---> 0.33\n",
      "Class name --> bottle\n"
     ]
    },
    {
     "name": "stderr",
     "output_type": "stream",
     "text": [
      "0: 480x640 1 person, 1 chair, 1 teddy bear, 133.4ms\n",
      "Speed: 1.0ms preprocess, 133.4ms inference, 2.0ms postprocess per image at shape (1, 3, 480, 640)\n",
      "\n",
      "0: 480x640 1 person, 1 chair, 125.1ms\n",
      "Speed: 2.0ms preprocess, 125.1ms inference, 3.0ms postprocess per image at shape (1, 3, 480, 640)\n",
      "\n"
     ]
    },
    {
     "name": "stdout",
     "output_type": "stream",
     "text": [
      "Confidence ---> 0.9\n",
      "Class name --> person\n",
      "Confidence ---> 0.6\n",
      "Class name --> teddy bear\n",
      "Confidence ---> 0.29\n",
      "Class name --> chair\n",
      "Confidence ---> 0.92\n",
      "Class name --> person\n",
      "Confidence ---> 0.44\n",
      "Class name --> chair\n"
     ]
    },
    {
     "name": "stderr",
     "output_type": "stream",
     "text": [
      "0: 480x640 1 person, 1 chair, 1 teddy bear, 116.6ms\n",
      "Speed: 1.1ms preprocess, 116.6ms inference, 2.0ms postprocess per image at shape (1, 3, 480, 640)\n",
      "\n",
      "0: 480x640 1 person, 1 chair, 120.2ms\n",
      "Speed: 1.1ms preprocess, 120.2ms inference, 0.9ms postprocess per image at shape (1, 3, 480, 640)\n",
      "\n"
     ]
    },
    {
     "name": "stdout",
     "output_type": "stream",
     "text": [
      "Confidence ---> 0.92\n",
      "Class name --> person\n",
      "Confidence ---> 0.35\n",
      "Class name --> teddy bear\n",
      "Confidence ---> 0.3\n",
      "Class name --> chair\n",
      "Confidence ---> 0.89\n",
      "Class name --> person\n",
      "Confidence ---> 0.29\n",
      "Class name --> chair\n"
     ]
    },
    {
     "name": "stderr",
     "output_type": "stream",
     "text": [
      "0: 480x640 2 persons, 1 chair, 123.9ms\n",
      "Speed: 2.0ms preprocess, 123.9ms inference, 2.6ms postprocess per image at shape (1, 3, 480, 640)\n",
      "\n",
      "0: 480x640 1 person, 1 bottle, 1 chair, 139.3ms\n",
      "Speed: 1.0ms preprocess, 139.3ms inference, 2.0ms postprocess per image at shape (1, 3, 480, 640)\n",
      "\n"
     ]
    },
    {
     "name": "stdout",
     "output_type": "stream",
     "text": [
      "Confidence ---> 0.9\n",
      "Class name --> person\n",
      "Confidence ---> 0.38\n",
      "Class name --> chair\n",
      "Confidence ---> 0.28\n",
      "Class name --> person\n",
      "Confidence ---> 0.89\n",
      "Class name --> person\n",
      "Confidence ---> 0.37\n",
      "Class name --> bottle\n",
      "Confidence ---> 0.36\n",
      "Class name --> chair\n"
     ]
    },
    {
     "name": "stderr",
     "output_type": "stream",
     "text": [
      "0: 480x640 1 person, 1 teddy bear, 149.7ms\n",
      "Speed: 2.0ms preprocess, 149.7ms inference, 1.0ms postprocess per image at shape (1, 3, 480, 640)\n",
      "\n",
      "0: 480x640 1 person, 1 chair, 134.1ms\n",
      "Speed: 2.0ms preprocess, 134.1ms inference, 3.0ms postprocess per image at shape (1, 3, 480, 640)\n",
      "\n"
     ]
    },
    {
     "name": "stdout",
     "output_type": "stream",
     "text": [
      "Confidence ---> 0.91\n",
      "Class name --> person\n",
      "Confidence ---> 0.54\n",
      "Class name --> teddy bear\n",
      "Confidence ---> 0.89\n",
      "Class name --> person\n",
      "Confidence ---> 0.36\n",
      "Class name --> chair\n"
     ]
    },
    {
     "name": "stderr",
     "output_type": "stream",
     "text": [
      "0: 480x640 1 person, 1 chair, 1 teddy bear, 135.5ms\n",
      "Speed: 3.1ms preprocess, 135.5ms inference, 1.5ms postprocess per image at shape (1, 3, 480, 640)\n",
      "\n",
      "0: 480x640 1 person, 1 bottle, 1 chair, 1 teddy bear, 139.7ms\n",
      "Speed: 2.0ms preprocess, 139.7ms inference, 3.0ms postprocess per image at shape (1, 3, 480, 640)\n",
      "\n"
     ]
    },
    {
     "name": "stdout",
     "output_type": "stream",
     "text": [
      "Confidence ---> 0.9\n",
      "Class name --> person\n",
      "Confidence ---> 0.29\n",
      "Class name --> teddy bear\n",
      "Confidence ---> 0.27\n",
      "Class name --> chair\n",
      "Confidence ---> 0.88\n",
      "Class name --> person\n",
      "Confidence ---> 0.32\n",
      "Class name --> chair\n",
      "Confidence ---> 0.28\n",
      "Class name --> bottle\n",
      "Confidence ---> 0.27\n",
      "Class name --> teddy bear\n"
     ]
    },
    {
     "name": "stderr",
     "output_type": "stream",
     "text": [
      "0: 480x640 1 person, 1 teddy bear, 161.4ms\n",
      "Speed: 2.0ms preprocess, 161.4ms inference, 2.0ms postprocess per image at shape (1, 3, 480, 640)\n",
      "\n",
      "0: 480x640 1 person, 1 chair, 1 teddy bear, 143.4ms\n",
      "Speed: 1.0ms preprocess, 143.4ms inference, 2.0ms postprocess per image at shape (1, 3, 480, 640)\n",
      "\n"
     ]
    },
    {
     "name": "stdout",
     "output_type": "stream",
     "text": [
      "Confidence ---> 0.75\n",
      "Class name --> person\n",
      "Confidence ---> 0.33\n",
      "Class name --> teddy bear\n",
      "Confidence ---> 0.85\n",
      "Class name --> person\n",
      "Confidence ---> 0.51\n",
      "Class name --> chair\n",
      "Confidence ---> 0.44\n",
      "Class name --> teddy bear\n"
     ]
    },
    {
     "name": "stderr",
     "output_type": "stream",
     "text": [
      "0: 480x640 1 person, 133.7ms\n",
      "Speed: 2.0ms preprocess, 133.7ms inference, 1.0ms postprocess per image at shape (1, 3, 480, 640)\n",
      "\n",
      "0: 480x640 1 person, 1 bottle, 134.0ms\n",
      "Speed: 3.8ms preprocess, 134.0ms inference, 2.0ms postprocess per image at shape (1, 3, 480, 640)\n",
      "\n"
     ]
    },
    {
     "name": "stdout",
     "output_type": "stream",
     "text": [
      "Confidence ---> 0.88\n",
      "Class name --> person\n",
      "Confidence ---> 0.9\n",
      "Class name --> person\n",
      "Confidence ---> 0.28\n",
      "Class name --> bottle\n"
     ]
    },
    {
     "name": "stderr",
     "output_type": "stream",
     "text": [
      "0: 480x640 1 person, 1 chair, 1 teddy bear, 130.2ms\n",
      "Speed: 3.0ms preprocess, 130.2ms inference, 1.0ms postprocess per image at shape (1, 3, 480, 640)\n",
      "\n",
      "0: 480x640 1 person, 1 bottle, 120.1ms\n",
      "Speed: 2.0ms preprocess, 120.1ms inference, 2.0ms postprocess per image at shape (1, 3, 480, 640)\n",
      "\n"
     ]
    },
    {
     "name": "stdout",
     "output_type": "stream",
     "text": [
      "Confidence ---> 0.82\n",
      "Class name --> person\n",
      "Confidence ---> 0.71\n",
      "Class name --> teddy bear\n",
      "Confidence ---> 0.39\n",
      "Class name --> chair\n",
      "Confidence ---> 0.88\n",
      "Class name --> person\n",
      "Confidence ---> 0.29\n",
      "Class name --> bottle\n"
     ]
    },
    {
     "name": "stderr",
     "output_type": "stream",
     "text": [
      "0: 480x640 1 person, 1 bottle, 1 teddy bear, 121.5ms\n",
      "Speed: 1.0ms preprocess, 121.5ms inference, 2.0ms postprocess per image at shape (1, 3, 480, 640)\n",
      "\n",
      "0: 480x640 1 person, 1 bottle, 1 teddy bear, 115.3ms\n",
      "Speed: 1.0ms preprocess, 115.3ms inference, 2.0ms postprocess per image at shape (1, 3, 480, 640)\n",
      "\n"
     ]
    },
    {
     "name": "stdout",
     "output_type": "stream",
     "text": [
      "Confidence ---> 0.78\n",
      "Class name --> person\n",
      "Confidence ---> 0.61\n",
      "Class name --> teddy bear\n",
      "Confidence ---> 0.32\n",
      "Class name --> bottle\n",
      "Confidence ---> 0.73\n",
      "Class name --> person\n",
      "Confidence ---> 0.59\n",
      "Class name --> teddy bear\n",
      "Confidence ---> 0.29\n",
      "Class name --> bottle\n"
     ]
    },
    {
     "name": "stderr",
     "output_type": "stream",
     "text": [
      "0: 480x640 2 persons, 121.6ms\n",
      "Speed: 2.0ms preprocess, 121.6ms inference, 3.0ms postprocess per image at shape (1, 3, 480, 640)\n",
      "\n",
      "0: 480x640 1 person, 1 bottle, 119.3ms\n",
      "Speed: 1.0ms preprocess, 119.3ms inference, 1.0ms postprocess per image at shape (1, 3, 480, 640)\n",
      "\n"
     ]
    },
    {
     "name": "stdout",
     "output_type": "stream",
     "text": [
      "Confidence ---> 0.71\n",
      "Class name --> person\n",
      "Confidence ---> 0.37\n",
      "Class name --> person\n",
      "Confidence ---> 0.8\n",
      "Class name --> person\n",
      "Confidence ---> 0.35\n",
      "Class name --> bottle\n"
     ]
    },
    {
     "name": "stderr",
     "output_type": "stream",
     "text": [
      "0: 480x640 2 persons, 127.3ms\n",
      "Speed: 3.0ms preprocess, 127.3ms inference, 2.0ms postprocess per image at shape (1, 3, 480, 640)\n",
      "\n",
      "0: 480x640 1 person, 167.8ms\n"
     ]
    },
    {
     "name": "stdout",
     "output_type": "stream",
     "text": [
      "Confidence ---> 0.85\n",
      "Class name --> person\n",
      "Confidence ---> 0.26\n",
      "Class name --> person\n",
      "Confidence ---> 0.83\n",
      "Class name --> person\n"
     ]
    },
    {
     "name": "stderr",
     "output_type": "stream",
     "text": [
      "Speed: 3.0ms preprocess, 167.8ms inference, 2.0ms postprocess per image at shape (1, 3, 480, 640)\n",
      "\n",
      "0: 480x640 2 persons, 162.0ms\n",
      "Speed: 2.4ms preprocess, 162.0ms inference, 2.0ms postprocess per image at shape (1, 3, 480, 640)\n",
      "\n",
      "0: 480x640 1 person, 1 bottle, 118.1ms\n",
      "Speed: 2.0ms preprocess, 118.1ms inference, 2.0ms postprocess per image at shape (1, 3, 480, 640)\n",
      "\n"
     ]
    },
    {
     "name": "stdout",
     "output_type": "stream",
     "text": [
      "Confidence ---> 0.86\n",
      "Class name --> person\n",
      "Confidence ---> 0.5\n",
      "Class name --> person\n",
      "Confidence ---> 0.88\n",
      "Class name --> person\n",
      "Confidence ---> 0.5\n",
      "Class name --> bottle\n"
     ]
    },
    {
     "name": "stderr",
     "output_type": "stream",
     "text": [
      "0: 480x640 2 persons, 125.5ms\n",
      "Speed: 2.0ms preprocess, 125.5ms inference, 2.0ms postprocess per image at shape (1, 3, 480, 640)\n",
      "\n",
      "0: 480x640 2 persons, 1 teddy bear, 112.6ms\n",
      "Speed: 2.0ms preprocess, 112.6ms inference, 3.0ms postprocess per image at shape (1, 3, 480, 640)\n",
      "\n"
     ]
    },
    {
     "name": "stdout",
     "output_type": "stream",
     "text": [
      "Confidence ---> 0.88\n",
      "Class name --> person\n",
      "Confidence ---> 0.3\n",
      "Class name --> person\n",
      "Confidence ---> 0.88\n",
      "Class name --> person\n",
      "Confidence ---> 0.55\n",
      "Class name --> teddy bear\n",
      "Confidence ---> 0.31\n",
      "Class name --> person\n"
     ]
    },
    {
     "name": "stderr",
     "output_type": "stream",
     "text": [
      "0: 480x640 2 persons, 1 teddy bear, 119.0ms\n",
      "Speed: 1.0ms preprocess, 119.0ms inference, 2.0ms postprocess per image at shape (1, 3, 480, 640)\n",
      "\n",
      "0: 480x640 1 person, 1 bottle, 1 teddy bear, 119.5ms\n",
      "Speed: 2.0ms preprocess, 119.5ms inference, 2.0ms postprocess per image at shape (1, 3, 480, 640)\n",
      "\n"
     ]
    },
    {
     "name": "stdout",
     "output_type": "stream",
     "text": [
      "Confidence ---> 0.87\n",
      "Class name --> person\n",
      "Confidence ---> 0.71\n",
      "Class name --> teddy bear\n",
      "Confidence ---> 0.29\n",
      "Class name --> person\n",
      "Confidence ---> 0.87\n",
      "Class name --> person\n",
      "Confidence ---> 0.59\n",
      "Class name --> teddy bear\n",
      "Confidence ---> 0.34\n",
      "Class name --> bottle\n"
     ]
    },
    {
     "name": "stderr",
     "output_type": "stream",
     "text": [
      "0: 480x640 2 persons, 114.9ms\n",
      "Speed: 2.0ms preprocess, 114.9ms inference, 2.0ms postprocess per image at shape (1, 3, 480, 640)\n",
      "\n",
      "0: 480x640 1 person, 1 chair, 1 teddy bear, 130.0ms\n",
      "Speed: 2.0ms preprocess, 130.0ms inference, 2.0ms postprocess per image at shape (1, 3, 480, 640)\n",
      "\n"
     ]
    },
    {
     "name": "stdout",
     "output_type": "stream",
     "text": [
      "Confidence ---> 0.83\n",
      "Class name --> person\n",
      "Confidence ---> 0.47\n",
      "Class name --> person\n",
      "Confidence ---> 0.89\n",
      "Class name --> person\n",
      "Confidence ---> 0.31\n",
      "Class name --> teddy bear\n",
      "Confidence ---> 0.31\n",
      "Class name --> chair\n"
     ]
    },
    {
     "name": "stderr",
     "output_type": "stream",
     "text": [
      "0: 480x640 1 person, 1 bottle, 1 chair, 1 teddy bear, 121.3ms\n",
      "Speed: 1.9ms preprocess, 121.3ms inference, 2.0ms postprocess per image at shape (1, 3, 480, 640)\n",
      "\n",
      "0: 480x640 1 person, 1 chair, 1 teddy bear, 122.1ms\n",
      "Speed: 3.0ms preprocess, 122.1ms inference, 3.2ms postprocess per image at shape (1, 3, 480, 640)\n",
      "\n"
     ]
    },
    {
     "name": "stdout",
     "output_type": "stream",
     "text": [
      "Confidence ---> 0.9\n",
      "Class name --> person\n",
      "Confidence ---> 0.44\n",
      "Class name --> teddy bear\n",
      "Confidence ---> 0.34\n",
      "Class name --> bottle\n",
      "Confidence ---> 0.31\n",
      "Class name --> chair\n",
      "Confidence ---> 0.91\n",
      "Class name --> person\n",
      "Confidence ---> 0.38\n",
      "Class name --> chair\n",
      "Confidence ---> 0.33\n",
      "Class name --> teddy bear\n"
     ]
    },
    {
     "name": "stderr",
     "output_type": "stream",
     "text": [
      "0: 480x640 2 persons, 1 bottle, 1 chair, 107.8ms\n",
      "Speed: 2.0ms preprocess, 107.8ms inference, 2.0ms postprocess per image at shape (1, 3, 480, 640)\n",
      "\n",
      "0: 480x640 1 person, 1 teddy bear, 116.9ms\n",
      "Speed: 1.0ms preprocess, 116.9ms inference, 2.0ms postprocess per image at shape (1, 3, 480, 640)\n",
      "\n"
     ]
    },
    {
     "name": "stdout",
     "output_type": "stream",
     "text": [
      "Confidence ---> 0.88\n",
      "Class name --> person\n",
      "Confidence ---> 0.31\n",
      "Class name --> person\n",
      "Confidence ---> 0.3\n",
      "Class name --> bottle\n",
      "Confidence ---> 0.28\n",
      "Class name --> chair\n",
      "Confidence ---> 0.87\n",
      "Class name --> person\n",
      "Confidence ---> 0.51\n",
      "Class name --> teddy bear\n"
     ]
    },
    {
     "name": "stderr",
     "output_type": "stream",
     "text": [
      "0: 480x640 2 persons, 1 chair, 112.0ms\n",
      "Speed: 1.0ms preprocess, 112.0ms inference, 1.0ms postprocess per image at shape (1, 3, 480, 640)\n",
      "\n",
      "0: 480x640 2 persons, 114.4ms\n",
      "Speed: 1.0ms preprocess, 114.4ms inference, 2.1ms postprocess per image at shape (1, 3, 480, 640)\n",
      "\n"
     ]
    },
    {
     "name": "stdout",
     "output_type": "stream",
     "text": [
      "Confidence ---> 0.82\n",
      "Class name --> person\n",
      "Confidence ---> 0.49\n",
      "Class name --> person\n",
      "Confidence ---> 0.41\n",
      "Class name --> chair\n",
      "Confidence ---> 0.84\n",
      "Class name --> person\n",
      "Confidence ---> 0.39\n",
      "Class name --> person\n"
     ]
    },
    {
     "name": "stderr",
     "output_type": "stream",
     "text": [
      "0: 480x640 2 persons, 1 chair, 119.2ms\n",
      "Speed: 2.1ms preprocess, 119.2ms inference, 2.0ms postprocess per image at shape (1, 3, 480, 640)\n",
      "\n",
      "0: 480x640 2 persons, 115.7ms\n",
      "Speed: 2.2ms preprocess, 115.7ms inference, 2.1ms postprocess per image at shape (1, 3, 480, 640)\n",
      "\n"
     ]
    },
    {
     "name": "stdout",
     "output_type": "stream",
     "text": [
      "Confidence ---> 0.88\n",
      "Class name --> person\n",
      "Confidence ---> 0.46\n",
      "Class name --> chair\n",
      "Confidence ---> 0.31\n",
      "Class name --> person\n",
      "Confidence ---> 0.81\n",
      "Class name --> person\n",
      "Confidence ---> 0.38\n",
      "Class name --> person\n"
     ]
    },
    {
     "name": "stderr",
     "output_type": "stream",
     "text": [
      "0: 480x640 2 persons, 119.1ms\n",
      "Speed: 1.0ms preprocess, 119.1ms inference, 1.0ms postprocess per image at shape (1, 3, 480, 640)\n",
      "\n",
      "0: 480x640 1 person, 1 bottle, 1 teddy bear, 114.7ms\n",
      "Speed: 2.1ms preprocess, 114.7ms inference, 2.0ms postprocess per image at shape (1, 3, 480, 640)\n",
      "\n"
     ]
    },
    {
     "name": "stdout",
     "output_type": "stream",
     "text": [
      "Confidence ---> 0.82\n",
      "Class name --> person\n",
      "Confidence ---> 0.34\n",
      "Class name --> person\n",
      "Confidence ---> 0.88\n",
      "Class name --> person\n",
      "Confidence ---> 0.34\n",
      "Class name --> teddy bear\n",
      "Confidence ---> 0.28\n",
      "Class name --> bottle\n"
     ]
    },
    {
     "name": "stderr",
     "output_type": "stream",
     "text": [
      "0: 480x640 1 person, 123.3ms\n",
      "Speed: 1.0ms preprocess, 123.3ms inference, 2.0ms postprocess per image at shape (1, 3, 480, 640)\n",
      "\n",
      "0: 480x640 1 person, 112.6ms\n",
      "Speed: 2.0ms preprocess, 112.6ms inference, 2.0ms postprocess per image at shape (1, 3, 480, 640)\n",
      "\n"
     ]
    },
    {
     "name": "stdout",
     "output_type": "stream",
     "text": [
      "Confidence ---> 0.86\n",
      "Class name --> person\n",
      "Confidence ---> 0.89\n",
      "Class name --> person\n"
     ]
    },
    {
     "name": "stderr",
     "output_type": "stream",
     "text": [
      "0: 480x640 2 persons, 119.7ms\n",
      "Speed: 1.0ms preprocess, 119.7ms inference, 3.5ms postprocess per image at shape (1, 3, 480, 640)\n",
      "\n",
      "0: 480x640 1 person, 116.4ms\n",
      "Speed: 2.0ms preprocess, 116.4ms inference, 1.0ms postprocess per image at shape (1, 3, 480, 640)\n",
      "\n"
     ]
    },
    {
     "name": "stdout",
     "output_type": "stream",
     "text": [
      "Confidence ---> 0.68\n",
      "Class name --> person\n",
      "Confidence ---> 0.51\n",
      "Class name --> person\n",
      "Confidence ---> 0.87\n",
      "Class name --> person\n"
     ]
    },
    {
     "name": "stderr",
     "output_type": "stream",
     "text": [
      "0: 480x640 1 person, 118.1ms\n",
      "Speed: 1.0ms preprocess, 118.1ms inference, 1.0ms postprocess per image at shape (1, 3, 480, 640)\n",
      "\n",
      "0: 480x640 2 persons, 1 bottle, 123.2ms\n",
      "Speed: 1.0ms preprocess, 123.2ms inference, 2.0ms postprocess per image at shape (1, 3, 480, 640)\n",
      "\n"
     ]
    },
    {
     "name": "stdout",
     "output_type": "stream",
     "text": [
      "Confidence ---> 0.83\n",
      "Class name --> person\n",
      "Confidence ---> 0.76\n",
      "Class name --> person\n",
      "Confidence ---> 0.46\n",
      "Class name --> person\n",
      "Confidence ---> 0.27\n",
      "Class name --> bottle\n"
     ]
    },
    {
     "name": "stderr",
     "output_type": "stream",
     "text": [
      "0: 480x640 2 persons, 1 chair, 127.6ms\n",
      "Speed: 2.0ms preprocess, 127.6ms inference, 3.0ms postprocess per image at shape (1, 3, 480, 640)\n",
      "\n",
      "0: 480x640 2 persons, 122.6ms\n",
      "Speed: 2.5ms preprocess, 122.6ms inference, 2.0ms postprocess per image at shape (1, 3, 480, 640)\n",
      "\n"
     ]
    },
    {
     "name": "stdout",
     "output_type": "stream",
     "text": [
      "Confidence ---> 0.8\n",
      "Class name --> person\n",
      "Confidence ---> 0.41\n",
      "Class name --> chair\n",
      "Confidence ---> 0.32\n",
      "Class name --> person\n",
      "Confidence ---> 0.8\n",
      "Class name --> person\n",
      "Confidence ---> 0.49\n",
      "Class name --> person\n"
     ]
    },
    {
     "name": "stderr",
     "output_type": "stream",
     "text": [
      "0: 480x640 2 persons, 1 teddy bear, 119.8ms\n",
      "Speed: 2.0ms preprocess, 119.8ms inference, 1.0ms postprocess per image at shape (1, 3, 480, 640)\n",
      "\n",
      "0: 480x640 2 persons, 111.8ms\n",
      "Speed: 1.5ms preprocess, 111.8ms inference, 2.0ms postprocess per image at shape (1, 3, 480, 640)\n",
      "\n"
     ]
    },
    {
     "name": "stdout",
     "output_type": "stream",
     "text": [
      "Confidence ---> 0.88\n",
      "Class name --> person\n",
      "Confidence ---> 0.38\n",
      "Class name --> person\n",
      "Confidence ---> 0.28\n",
      "Class name --> teddy bear\n",
      "Confidence ---> 0.83\n",
      "Class name --> person\n",
      "Confidence ---> 0.27\n",
      "Class name --> person\n"
     ]
    },
    {
     "name": "stderr",
     "output_type": "stream",
     "text": [
      "0: 480x640 1 person, 2 chairs, 114.5ms\n",
      "Speed: 1.0ms preprocess, 114.5ms inference, 2.0ms postprocess per image at shape (1, 3, 480, 640)\n",
      "\n",
      "0: 480x640 1 person, 125.3ms\n",
      "Speed: 3.0ms preprocess, 125.3ms inference, 1.9ms postprocess per image at shape (1, 3, 480, 640)\n",
      "\n"
     ]
    },
    {
     "name": "stdout",
     "output_type": "stream",
     "text": [
      "Confidence ---> 0.8\n",
      "Class name --> person\n",
      "Confidence ---> 0.31\n",
      "Class name --> chair\n",
      "Confidence ---> 0.26\n",
      "Class name --> chair\n",
      "Confidence ---> 0.84\n",
      "Class name --> person\n"
     ]
    },
    {
     "name": "stderr",
     "output_type": "stream",
     "text": [
      "0: 480x640 1 person, 1 chair, 119.1ms\n",
      "Speed: 2.0ms preprocess, 119.1ms inference, 1.9ms postprocess per image at shape (1, 3, 480, 640)\n",
      "\n",
      "0: 480x640 1 person, 1 teddy bear, 120.8ms\n",
      "Speed: 1.0ms preprocess, 120.8ms inference, 2.1ms postprocess per image at shape (1, 3, 480, 640)\n",
      "\n"
     ]
    },
    {
     "name": "stdout",
     "output_type": "stream",
     "text": [
      "Confidence ---> 0.87\n",
      "Class name --> person\n",
      "Confidence ---> 0.33\n",
      "Class name --> chair\n",
      "Confidence ---> 0.79\n",
      "Class name --> person\n",
      "Confidence ---> 0.41\n",
      "Class name --> teddy bear\n"
     ]
    },
    {
     "name": "stderr",
     "output_type": "stream",
     "text": [
      "0: 480x640 1 person, 1 bottle, 119.7ms\n",
      "Speed: 2.0ms preprocess, 119.7ms inference, 1.9ms postprocess per image at shape (1, 3, 480, 640)\n",
      "\n",
      "0: 480x640 2 persons, 120.8ms\n",
      "Speed: 2.0ms preprocess, 120.8ms inference, 3.3ms postprocess per image at shape (1, 3, 480, 640)\n",
      "\n"
     ]
    },
    {
     "name": "stdout",
     "output_type": "stream",
     "text": [
      "Confidence ---> 0.76\n",
      "Class name --> person\n",
      "Confidence ---> 0.27\n",
      "Class name --> bottle\n",
      "Confidence ---> 0.68\n",
      "Class name --> person\n",
      "Confidence ---> 0.36\n",
      "Class name --> person\n"
     ]
    },
    {
     "name": "stderr",
     "output_type": "stream",
     "text": [
      "0: 480x640 1 person, 1 teddy bear, 120.1ms\n",
      "Speed: 2.0ms preprocess, 120.1ms inference, 2.0ms postprocess per image at shape (1, 3, 480, 640)\n",
      "\n",
      "0: 480x640 1 person, 115.3ms\n",
      "Speed: 1.9ms preprocess, 115.3ms inference, 2.1ms postprocess per image at shape (1, 3, 480, 640)\n",
      "\n"
     ]
    },
    {
     "name": "stdout",
     "output_type": "stream",
     "text": [
      "Confidence ---> 0.72\n",
      "Class name --> person\n",
      "Confidence ---> 0.51\n",
      "Class name --> teddy bear\n",
      "Confidence ---> 0.83\n",
      "Class name --> person\n"
     ]
    },
    {
     "name": "stderr",
     "output_type": "stream",
     "text": [
      "0: 480x640 1 person, 1 bottle, 108.3ms\n",
      "Speed: 2.2ms preprocess, 108.3ms inference, 2.0ms postprocess per image at shape (1, 3, 480, 640)\n",
      "\n",
      "0: 480x640 2 persons, 1 chair, 111.3ms\n",
      "Speed: 2.0ms preprocess, 111.3ms inference, 2.5ms postprocess per image at shape (1, 3, 480, 640)\n",
      "\n"
     ]
    },
    {
     "name": "stdout",
     "output_type": "stream",
     "text": [
      "Confidence ---> 0.78\n",
      "Class name --> person\n",
      "Confidence ---> 0.44\n",
      "Class name --> bottle\n",
      "Confidence ---> 0.78\n",
      "Class name --> person\n",
      "Confidence ---> 0.49\n",
      "Class name --> person\n",
      "Confidence ---> 0.32\n",
      "Class name --> chair\n"
     ]
    },
    {
     "name": "stderr",
     "output_type": "stream",
     "text": [
      "0: 480x640 1 person, 118.9ms\n",
      "Speed: 2.0ms preprocess, 118.9ms inference, 2.4ms postprocess per image at shape (1, 3, 480, 640)\n",
      "\n",
      "0: 480x640 1 person, 124.3ms\n",
      "Speed: 2.0ms preprocess, 124.3ms inference, 1.0ms postprocess per image at shape (1, 3, 480, 640)\n",
      "\n"
     ]
    },
    {
     "name": "stdout",
     "output_type": "stream",
     "text": [
      "Confidence ---> 0.76\n",
      "Class name --> person\n",
      "Confidence ---> 0.78\n",
      "Class name --> person\n"
     ]
    },
    {
     "name": "stderr",
     "output_type": "stream",
     "text": [
      "0: 480x640 1 person, 1 toothbrush, 113.4ms\n",
      "Speed: 1.0ms preprocess, 113.4ms inference, 2.0ms postprocess per image at shape (1, 3, 480, 640)\n",
      "\n",
      "0: 480x640 1 person, 121.6ms\n",
      "Speed: 2.2ms preprocess, 121.6ms inference, 2.0ms postprocess per image at shape (1, 3, 480, 640)\n",
      "\n"
     ]
    },
    {
     "name": "stdout",
     "output_type": "stream",
     "text": [
      "Confidence ---> 0.8\n",
      "Class name --> person\n",
      "Confidence ---> 0.27\n",
      "Class name --> toothbrush\n",
      "Confidence ---> 0.82\n",
      "Class name --> person\n"
     ]
    },
    {
     "name": "stderr",
     "output_type": "stream",
     "text": [
      "0: 480x640 1 person, 116.1ms\n",
      "Speed: 2.0ms preprocess, 116.1ms inference, 2.0ms postprocess per image at shape (1, 3, 480, 640)\n",
      "\n",
      "0: 480x640 1 person, 126.6ms\n",
      "Speed: 2.0ms preprocess, 126.6ms inference, 1.0ms postprocess per image at shape (1, 3, 480, 640)\n",
      "\n"
     ]
    },
    {
     "name": "stdout",
     "output_type": "stream",
     "text": [
      "Confidence ---> 0.73\n",
      "Class name --> person\n",
      "Confidence ---> 0.79\n",
      "Class name --> person\n"
     ]
    },
    {
     "name": "stderr",
     "output_type": "stream",
     "text": [
      "0: 480x640 1 person, 119.7ms\n",
      "Speed: 2.0ms preprocess, 119.7ms inference, 2.0ms postprocess per image at shape (1, 3, 480, 640)\n",
      "\n",
      "0: 480x640 1 person, 1 bottle, 111.7ms\n",
      "Speed: 2.0ms preprocess, 111.7ms inference, 1.0ms postprocess per image at shape (1, 3, 480, 640)\n",
      "\n"
     ]
    },
    {
     "name": "stdout",
     "output_type": "stream",
     "text": [
      "Confidence ---> 0.87\n",
      "Class name --> person\n",
      "Confidence ---> 0.86\n",
      "Class name --> person\n",
      "Confidence ---> 0.3\n",
      "Class name --> bottle\n"
     ]
    },
    {
     "name": "stderr",
     "output_type": "stream",
     "text": [
      "0: 480x640 1 person, 155.3ms\n",
      "Speed: 2.0ms preprocess, 155.3ms inference, 2.0ms postprocess per image at shape (1, 3, 480, 640)\n",
      "\n",
      "0: 480x640 1 person, 112.4ms\n",
      "Speed: 2.0ms preprocess, 112.4ms inference, 2.0ms postprocess per image at shape (1, 3, 480, 640)\n",
      "\n"
     ]
    },
    {
     "name": "stdout",
     "output_type": "stream",
     "text": [
      "Confidence ---> 0.83\n",
      "Class name --> person\n",
      "Confidence ---> 0.83\n",
      "Class name --> person\n"
     ]
    },
    {
     "name": "stderr",
     "output_type": "stream",
     "text": [
      "0: 480x640 2 persons, 1 bottle, 132.6ms\n",
      "Speed: 2.0ms preprocess, 132.6ms inference, 1.0ms postprocess per image at shape (1, 3, 480, 640)\n",
      "\n",
      "0: 480x640 2 persons, 2 cell phones, 125.9ms\n",
      "Speed: 2.0ms preprocess, 125.9ms inference, 2.0ms postprocess per image at shape (1, 3, 480, 640)\n",
      "\n"
     ]
    },
    {
     "name": "stdout",
     "output_type": "stream",
     "text": [
      "Confidence ---> 0.83\n",
      "Class name --> person\n",
      "Confidence ---> 0.29\n",
      "Class name --> person\n",
      "Confidence ---> 0.29\n",
      "Class name --> bottle\n",
      "Confidence ---> 0.81\n",
      "Class name --> person\n",
      "Confidence ---> 0.31\n",
      "Class name --> person\n",
      "Confidence ---> 0.3\n",
      "Class name --> cell phone\n",
      "Confidence ---> 0.27\n",
      "Class name --> cell phone\n"
     ]
    },
    {
     "name": "stderr",
     "output_type": "stream",
     "text": [
      "0: 480x640 1 person, 1 cell phone, 120.9ms\n",
      "Speed: 1.0ms preprocess, 120.9ms inference, 2.0ms postprocess per image at shape (1, 3, 480, 640)\n",
      "\n",
      "0: 480x640 1 person, 1 bottle, 2 chairs, 111.7ms\n",
      "Speed: 1.0ms preprocess, 111.7ms inference, 2.1ms postprocess per image at shape (1, 3, 480, 640)\n",
      "\n"
     ]
    },
    {
     "name": "stdout",
     "output_type": "stream",
     "text": [
      "Confidence ---> 0.74\n",
      "Class name --> cell phone\n",
      "Confidence ---> 0.7\n",
      "Class name --> person\n",
      "Confidence ---> 0.74\n",
      "Class name --> person\n",
      "Confidence ---> 0.3\n",
      "Class name --> chair\n",
      "Confidence ---> 0.28\n",
      "Class name --> bottle\n",
      "Confidence ---> 0.27\n",
      "Class name --> chair\n"
     ]
    },
    {
     "name": "stderr",
     "output_type": "stream",
     "text": [
      "0: 480x640 1 person, 1 bottle, 110.0ms\n",
      "Speed: 1.2ms preprocess, 110.0ms inference, 2.0ms postprocess per image at shape (1, 3, 480, 640)\n",
      "\n",
      "0: 480x640 1 person, 124.1ms\n",
      "Speed: 3.0ms preprocess, 124.1ms inference, 2.0ms postprocess per image at shape (1, 3, 480, 640)\n",
      "\n"
     ]
    },
    {
     "name": "stdout",
     "output_type": "stream",
     "text": [
      "Confidence ---> 0.61\n",
      "Class name --> person\n",
      "Confidence ---> 0.35\n",
      "Class name --> bottle\n",
      "Confidence ---> 0.82\n",
      "Class name --> person\n"
     ]
    },
    {
     "name": "stderr",
     "output_type": "stream",
     "text": [
      "0: 480x640 1 person, 1 tie, 1 bottle, 115.9ms\n",
      "Speed: 2.0ms preprocess, 115.9ms inference, 2.0ms postprocess per image at shape (1, 3, 480, 640)\n",
      "\n",
      "0: 480x640 1 person, 122.0ms\n",
      "Speed: 3.5ms preprocess, 122.0ms inference, 2.0ms postprocess per image at shape (1, 3, 480, 640)\n",
      "\n"
     ]
    },
    {
     "name": "stdout",
     "output_type": "stream",
     "text": [
      "Confidence ---> 0.68\n",
      "Class name --> person\n",
      "Confidence ---> 0.34\n",
      "Class name --> tie\n",
      "Confidence ---> 0.32\n",
      "Class name --> bottle\n",
      "Confidence ---> 0.7\n",
      "Class name --> person\n"
     ]
    },
    {
     "name": "stderr",
     "output_type": "stream",
     "text": [
      "0: 480x640 1 person, 118.1ms\n",
      "Speed: 2.0ms preprocess, 118.1ms inference, 2.0ms postprocess per image at shape (1, 3, 480, 640)\n",
      "\n",
      "0: 480x640 1 person, 1 bottle, 1 cell phone, 117.4ms\n",
      "Speed: 2.0ms preprocess, 117.4ms inference, 2.0ms postprocess per image at shape (1, 3, 480, 640)\n",
      "\n"
     ]
    },
    {
     "name": "stdout",
     "output_type": "stream",
     "text": [
      "Confidence ---> 0.64\n",
      "Class name --> person\n",
      "Confidence ---> 0.57\n",
      "Class name --> person\n",
      "Confidence ---> 0.36\n",
      "Class name --> cell phone\n",
      "Confidence ---> 0.31\n",
      "Class name --> bottle\n"
     ]
    },
    {
     "name": "stderr",
     "output_type": "stream",
     "text": [
      "0: 480x640 1 person, 1 bottle, 1 cell phone, 123.0ms\n",
      "Speed: 1.0ms preprocess, 123.0ms inference, 3.0ms postprocess per image at shape (1, 3, 480, 640)\n",
      "\n",
      "0: 480x640 1 person, 114.2ms\n",
      "Speed: 2.3ms preprocess, 114.2ms inference, 2.0ms postprocess per image at shape (1, 3, 480, 640)\n",
      "\n"
     ]
    },
    {
     "name": "stdout",
     "output_type": "stream",
     "text": [
      "Confidence ---> 0.78\n",
      "Class name --> person\n",
      "Confidence ---> 0.38\n",
      "Class name --> bottle\n",
      "Confidence ---> 0.32\n",
      "Class name --> cell phone\n",
      "Confidence ---> 0.79\n",
      "Class name --> person\n"
     ]
    },
    {
     "name": "stderr",
     "output_type": "stream",
     "text": [
      "0: 480x640 1 person, 122.1ms\n",
      "Speed: 2.0ms preprocess, 122.1ms inference, 2.1ms postprocess per image at shape (1, 3, 480, 640)\n",
      "\n",
      "0: 480x640 1 person, 1 bottle, 1 cell phone, 125.2ms\n",
      "Speed: 2.0ms preprocess, 125.2ms inference, 2.0ms postprocess per image at shape (1, 3, 480, 640)\n",
      "\n"
     ]
    },
    {
     "name": "stdout",
     "output_type": "stream",
     "text": [
      "Confidence ---> 0.79\n",
      "Class name --> person\n",
      "Confidence ---> 0.79\n",
      "Class name --> person\n",
      "Confidence ---> 0.43\n",
      "Class name --> cell phone\n",
      "Confidence ---> 0.33\n",
      "Class name --> bottle\n"
     ]
    },
    {
     "name": "stderr",
     "output_type": "stream",
     "text": [
      "0: 480x640 1 person, 119.6ms\n",
      "Speed: 3.4ms preprocess, 119.6ms inference, 2.0ms postprocess per image at shape (1, 3, 480, 640)\n",
      "\n",
      "0: 480x640 1 person, 1 cell phone, 129.6ms\n",
      "Speed: 1.1ms preprocess, 129.6ms inference, 2.0ms postprocess per image at shape (1, 3, 480, 640)\n",
      "\n"
     ]
    },
    {
     "name": "stdout",
     "output_type": "stream",
     "text": [
      "Confidence ---> 0.68\n",
      "Class name --> person\n",
      "Confidence ---> 0.84\n",
      "Class name --> person\n",
      "Confidence ---> 0.36\n",
      "Class name --> cell phone\n"
     ]
    },
    {
     "name": "stderr",
     "output_type": "stream",
     "text": [
      "0: 480x640 1 person, 1 cell phone, 130.5ms\n",
      "Speed: 1.0ms preprocess, 130.5ms inference, 2.0ms postprocess per image at shape (1, 3, 480, 640)\n",
      "\n",
      "0: 480x640 1 person, 151.4ms\n",
      "Speed: 2.1ms preprocess, 151.4ms inference, 1.0ms postprocess per image at shape (1, 3, 480, 640)\n",
      "\n"
     ]
    },
    {
     "name": "stdout",
     "output_type": "stream",
     "text": [
      "Confidence ---> 0.83\n",
      "Class name --> person\n",
      "Confidence ---> 0.35\n",
      "Class name --> cell phone\n",
      "Confidence ---> 0.92\n",
      "Class name --> person\n"
     ]
    },
    {
     "name": "stderr",
     "output_type": "stream",
     "text": [
      "0: 480x640 1 person, 1 chair, 143.0ms\n",
      "Speed: 3.0ms preprocess, 143.0ms inference, 3.0ms postprocess per image at shape (1, 3, 480, 640)\n",
      "\n",
      "0: 480x640 1 person, 127.1ms\n",
      "Speed: 2.0ms preprocess, 127.1ms inference, 2.0ms postprocess per image at shape (1, 3, 480, 640)\n",
      "\n"
     ]
    },
    {
     "name": "stdout",
     "output_type": "stream",
     "text": [
      "Confidence ---> 0.89\n",
      "Class name --> person\n",
      "Confidence ---> 0.33\n",
      "Class name --> chair\n",
      "Confidence ---> 0.87\n",
      "Class name --> person\n"
     ]
    },
    {
     "name": "stderr",
     "output_type": "stream",
     "text": [
      "0: 480x640 1 person, 120.7ms\n",
      "Speed: 2.0ms preprocess, 120.7ms inference, 2.0ms postprocess per image at shape (1, 3, 480, 640)\n",
      "\n",
      "0: 480x640 1 person, 1 chair, 119.4ms\n",
      "Speed: 3.0ms preprocess, 119.4ms inference, 1.4ms postprocess per image at shape (1, 3, 480, 640)\n",
      "\n"
     ]
    },
    {
     "name": "stdout",
     "output_type": "stream",
     "text": [
      "Confidence ---> 0.89\n",
      "Class name --> person\n",
      "Confidence ---> 0.91\n",
      "Class name --> person\n",
      "Confidence ---> 0.26\n",
      "Class name --> chair\n"
     ]
    },
    {
     "name": "stderr",
     "output_type": "stream",
     "text": [
      "0: 480x640 1 person, 1 chair, 116.4ms\n",
      "Speed: 2.0ms preprocess, 116.4ms inference, 1.0ms postprocess per image at shape (1, 3, 480, 640)\n",
      "\n",
      "0: 480x640 1 person, 1 chair, 114.7ms\n",
      "Speed: 2.0ms preprocess, 114.7ms inference, 1.9ms postprocess per image at shape (1, 3, 480, 640)\n",
      "\n"
     ]
    },
    {
     "name": "stdout",
     "output_type": "stream",
     "text": [
      "Confidence ---> 0.92\n",
      "Class name --> person\n",
      "Confidence ---> 0.29\n",
      "Class name --> chair\n",
      "Confidence ---> 0.91\n",
      "Class name --> person\n",
      "Confidence ---> 0.49\n",
      "Class name --> chair\n"
     ]
    },
    {
     "name": "stderr",
     "output_type": "stream",
     "text": [
      "0: 480x640 1 person, 1 chair, 215.9ms\n",
      "Speed: 2.1ms preprocess, 215.9ms inference, 2.0ms postprocess per image at shape (1, 3, 480, 640)\n",
      "\n",
      "0: 480x640 1 person, 1 bottle, 1 chair, 118.8ms\n",
      "Speed: 2.0ms preprocess, 118.8ms inference, 2.0ms postprocess per image at shape (1, 3, 480, 640)\n",
      "\n"
     ]
    },
    {
     "name": "stdout",
     "output_type": "stream",
     "text": [
      "Confidence ---> 0.91\n",
      "Class name --> person\n",
      "Confidence ---> 0.4\n",
      "Class name --> chair\n",
      "Confidence ---> 0.9\n",
      "Class name --> person\n",
      "Confidence ---> 0.69\n",
      "Class name --> chair\n",
      "Confidence ---> 0.37\n",
      "Class name --> bottle\n"
     ]
    },
    {
     "name": "stderr",
     "output_type": "stream",
     "text": [
      "0: 480x640 2 persons, 1 chair, 118.2ms\n",
      "Speed: 2.0ms preprocess, 118.2ms inference, 2.0ms postprocess per image at shape (1, 3, 480, 640)\n",
      "\n",
      "0: 480x640 1 person, 1 chair, 119.9ms\n",
      "Speed: 2.0ms preprocess, 119.9ms inference, 1.1ms postprocess per image at shape (1, 3, 480, 640)\n",
      "\n"
     ]
    },
    {
     "name": "stdout",
     "output_type": "stream",
     "text": [
      "Confidence ---> 0.83\n",
      "Class name --> person\n",
      "Confidence ---> 0.52\n",
      "Class name --> chair\n",
      "Confidence ---> 0.32\n",
      "Class name --> person\n",
      "Confidence ---> 0.91\n",
      "Class name --> person\n",
      "Confidence ---> 0.48\n",
      "Class name --> chair\n"
     ]
    },
    {
     "name": "stderr",
     "output_type": "stream",
     "text": [
      "0: 480x640 1 person, 1 chair, 124.9ms\n",
      "Speed: 3.1ms preprocess, 124.9ms inference, 2.0ms postprocess per image at shape (1, 3, 480, 640)\n",
      "\n",
      "0: 480x640 1 person, 1 chair, 1 tv, 121.9ms\n",
      "Speed: 2.1ms preprocess, 121.9ms inference, 2.0ms postprocess per image at shape (1, 3, 480, 640)\n",
      "\n"
     ]
    },
    {
     "name": "stdout",
     "output_type": "stream",
     "text": [
      "Confidence ---> 0.77\n",
      "Class name --> person\n",
      "Confidence ---> 0.45\n",
      "Class name --> chair\n",
      "Confidence ---> 0.87\n",
      "Class name --> person\n",
      "Confidence ---> 0.63\n",
      "Class name --> chair\n",
      "Confidence ---> 0.38\n",
      "Class name --> tvmonitor\n"
     ]
    },
    {
     "name": "stderr",
     "output_type": "stream",
     "text": [
      "0: 480x640 1 person, 1 chair, 130.8ms\n",
      "Speed: 2.5ms preprocess, 130.8ms inference, 2.0ms postprocess per image at shape (1, 3, 480, 640)\n",
      "\n",
      "0: 480x640 1 person, 2 chairs, 1 tv, 121.7ms\n",
      "Speed: 2.0ms preprocess, 121.7ms inference, 1.0ms postprocess per image at shape (1, 3, 480, 640)\n",
      "\n"
     ]
    },
    {
     "name": "stdout",
     "output_type": "stream",
     "text": [
      "Confidence ---> 0.68\n",
      "Class name --> person\n",
      "Confidence ---> 0.39\n",
      "Class name --> chair\n",
      "Confidence ---> 0.86\n",
      "Class name --> person\n",
      "Confidence ---> 0.35\n",
      "Class name --> chair\n",
      "Confidence ---> 0.28\n",
      "Class name --> tvmonitor\n",
      "Confidence ---> 0.27\n",
      "Class name --> chair\n"
     ]
    },
    {
     "name": "stderr",
     "output_type": "stream",
     "text": [
      "0: 480x640 1 person, 1 bottle, 1 chair, 1 cell phone, 125.2ms\n",
      "Speed: 1.0ms preprocess, 125.2ms inference, 1.0ms postprocess per image at shape (1, 3, 480, 640)\n",
      "\n",
      "0: 480x640 1 person, 1 chair, 1 cell phone, 116.8ms\n",
      "Speed: 2.0ms preprocess, 116.8ms inference, 2.0ms postprocess per image at shape (1, 3, 480, 640)\n",
      "\n"
     ]
    },
    {
     "name": "stdout",
     "output_type": "stream",
     "text": [
      "Confidence ---> 0.82\n",
      "Class name --> person\n",
      "Confidence ---> 0.45\n",
      "Class name --> chair\n",
      "Confidence ---> 0.33\n",
      "Class name --> bottle\n",
      "Confidence ---> 0.32\n",
      "Class name --> cell phone\n",
      "Confidence ---> 0.8\n",
      "Class name --> person\n",
      "Confidence ---> 0.58\n",
      "Class name --> cell phone\n",
      "Confidence ---> 0.56\n",
      "Class name --> chair\n"
     ]
    },
    {
     "name": "stderr",
     "output_type": "stream",
     "text": [
      "0: 480x640 1 person, 1 chair, 1 cell phone, 127.5ms\n",
      "Speed: 2.0ms preprocess, 127.5ms inference, 2.0ms postprocess per image at shape (1, 3, 480, 640)\n",
      "\n",
      "0: 480x640 1 person, 2 chairs, 1 cell phone, 127.9ms\n",
      "Speed: 2.0ms preprocess, 127.9ms inference, 2.0ms postprocess per image at shape (1, 3, 480, 640)\n",
      "\n"
     ]
    },
    {
     "name": "stdout",
     "output_type": "stream",
     "text": [
      "Confidence ---> 0.81\n",
      "Class name --> person\n",
      "Confidence ---> 0.63\n",
      "Class name --> cell phone\n",
      "Confidence ---> 0.47\n",
      "Class name --> chair\n",
      "Confidence ---> 0.8\n",
      "Class name --> person\n",
      "Confidence ---> 0.54\n",
      "Class name --> chair\n",
      "Confidence ---> 0.51\n",
      "Class name --> cell phone\n",
      "Confidence ---> 0.33\n",
      "Class name --> chair\n"
     ]
    },
    {
     "name": "stderr",
     "output_type": "stream",
     "text": [
      "0: 480x640 1 person, 1 chair, 1 cell phone, 116.7ms\n",
      "Speed: 1.0ms preprocess, 116.7ms inference, 2.0ms postprocess per image at shape (1, 3, 480, 640)\n",
      "\n",
      "0: 480x640 1 person, 1 bottle, 1 chair, 1 cell phone, 122.8ms\n",
      "Speed: 3.0ms preprocess, 122.8ms inference, 1.1ms postprocess per image at shape (1, 3, 480, 640)\n",
      "\n"
     ]
    },
    {
     "name": "stdout",
     "output_type": "stream",
     "text": [
      "Confidence ---> 0.87\n",
      "Class name --> person\n",
      "Confidence ---> 0.52\n",
      "Class name --> cell phone\n",
      "Confidence ---> 0.42\n",
      "Class name --> chair\n",
      "Confidence ---> 0.85\n",
      "Class name --> person\n",
      "Confidence ---> 0.42\n",
      "Class name --> cell phone\n",
      "Confidence ---> 0.39\n",
      "Class name --> chair\n",
      "Confidence ---> 0.31\n",
      "Class name --> bottle\n"
     ]
    },
    {
     "name": "stderr",
     "output_type": "stream",
     "text": [
      "0: 480x640 1 person, 2 chairs, 1 cell phone, 122.7ms\n",
      "Speed: 2.1ms preprocess, 122.7ms inference, 2.4ms postprocess per image at shape (1, 3, 480, 640)\n",
      "\n",
      "0: 480x640 1 person, 1 bottle, 1 chair, 1 cell phone, 125.0ms\n",
      "Speed: 2.0ms preprocess, 125.0ms inference, 4.9ms postprocess per image at shape (1, 3, 480, 640)\n",
      "\n"
     ]
    },
    {
     "name": "stdout",
     "output_type": "stream",
     "text": [
      "Confidence ---> 0.87\n",
      "Class name --> person\n",
      "Confidence ---> 0.55\n",
      "Class name --> cell phone\n",
      "Confidence ---> 0.38\n",
      "Class name --> chair\n",
      "Confidence ---> 0.26\n",
      "Class name --> chair\n",
      "Confidence ---> 0.85\n",
      "Class name --> person\n",
      "Confidence ---> 0.71\n",
      "Class name --> cell phone\n",
      "Confidence ---> 0.65\n",
      "Class name --> chair\n",
      "Confidence ---> 0.37\n",
      "Class name --> bottle\n"
     ]
    },
    {
     "name": "stderr",
     "output_type": "stream",
     "text": [
      "0: 480x640 1 person, 1 chair, 1 cell phone, 130.7ms\n",
      "Speed: 2.0ms preprocess, 130.7ms inference, 2.0ms postprocess per image at shape (1, 3, 480, 640)\n",
      "\n",
      "0: 480x640 1 person, 1 bottle, 2 chairs, 1 tv, 1 cell phone, 122.8ms\n",
      "Speed: 2.0ms preprocess, 122.8ms inference, 2.0ms postprocess per image at shape (1, 3, 480, 640)\n",
      "\n"
     ]
    },
    {
     "name": "stdout",
     "output_type": "stream",
     "text": [
      "Confidence ---> 0.83\n",
      "Class name --> person\n",
      "Confidence ---> 0.74\n",
      "Class name --> cell phone\n",
      "Confidence ---> 0.51\n",
      "Class name --> chair\n",
      "Confidence ---> 0.85\n",
      "Class name --> person\n",
      "Confidence ---> 0.42\n",
      "Class name --> cell phone\n",
      "Confidence ---> 0.35\n",
      "Class name --> chair\n",
      "Confidence ---> 0.34\n",
      "Class name --> chair\n",
      "Confidence ---> 0.31\n",
      "Class name --> tvmonitor\n",
      "Confidence ---> 0.27\n",
      "Class name --> bottle\n"
     ]
    },
    {
     "name": "stderr",
     "output_type": "stream",
     "text": [
      "0: 480x640 1 person, 1 chair, 1 cell phone, 124.2ms\n",
      "Speed: 2.0ms preprocess, 124.2ms inference, 2.0ms postprocess per image at shape (1, 3, 480, 640)\n",
      "\n",
      "0: 480x640 1 person, 1 chair, 1 cell phone, 113.1ms\n",
      "Speed: 2.0ms preprocess, 113.1ms inference, 2.0ms postprocess per image at shape (1, 3, 480, 640)\n",
      "\n"
     ]
    },
    {
     "name": "stdout",
     "output_type": "stream",
     "text": [
      "Confidence ---> 0.84\n",
      "Class name --> person\n",
      "Confidence ---> 0.8\n",
      "Class name --> cell phone\n",
      "Confidence ---> 0.55\n",
      "Class name --> chair\n",
      "Confidence ---> 0.81\n",
      "Class name --> cell phone\n",
      "Confidence ---> 0.81\n",
      "Class name --> person\n",
      "Confidence ---> 0.51\n",
      "Class name --> chair\n"
     ]
    },
    {
     "name": "stderr",
     "output_type": "stream",
     "text": [
      "0: 480x640 1 person, 1 bottle, 1 cell phone, 128.2ms\n",
      "Speed: 2.0ms preprocess, 128.2ms inference, 2.0ms postprocess per image at shape (1, 3, 480, 640)\n",
      "\n",
      "0: 480x640 1 person, 1 chair, 1 cell phone, 116.7ms\n",
      "Speed: 2.0ms preprocess, 116.7ms inference, 1.0ms postprocess per image at shape (1, 3, 480, 640)\n",
      "\n"
     ]
    },
    {
     "name": "stdout",
     "output_type": "stream",
     "text": [
      "Confidence ---> 0.78\n",
      "Class name --> person\n",
      "Confidence ---> 0.78\n",
      "Class name --> cell phone\n",
      "Confidence ---> 0.33\n",
      "Class name --> bottle\n",
      "Confidence ---> 0.77\n",
      "Class name --> person\n",
      "Confidence ---> 0.66\n",
      "Class name --> chair\n",
      "Confidence ---> 0.64\n",
      "Class name --> cell phone\n"
     ]
    },
    {
     "name": "stderr",
     "output_type": "stream",
     "text": [
      "0: 480x640 1 person, 1 chair, 1 cell phone, 118.0ms\n",
      "Speed: 2.0ms preprocess, 118.0ms inference, 2.0ms postprocess per image at shape (1, 3, 480, 640)\n",
      "\n",
      "0: 480x640 1 person, 1 bottle, 1 chair, 1 cell phone, 117.5ms\n",
      "Speed: 2.0ms preprocess, 117.5ms inference, 2.0ms postprocess per image at shape (1, 3, 480, 640)\n",
      "\n"
     ]
    },
    {
     "name": "stdout",
     "output_type": "stream",
     "text": [
      "Confidence ---> 0.81\n",
      "Class name --> person\n",
      "Confidence ---> 0.78\n",
      "Class name --> cell phone\n",
      "Confidence ---> 0.41\n",
      "Class name --> chair\n",
      "Confidence ---> 0.81\n",
      "Class name --> person\n",
      "Confidence ---> 0.71\n",
      "Class name --> cell phone\n",
      "Confidence ---> 0.68\n",
      "Class name --> chair\n",
      "Confidence ---> 0.3\n",
      "Class name --> bottle\n"
     ]
    },
    {
     "name": "stderr",
     "output_type": "stream",
     "text": [
      "0: 480x640 1 person, 1 bottle, 1 chair, 1 cell phone, 132.5ms\n",
      "Speed: 2.0ms preprocess, 132.5ms inference, 2.0ms postprocess per image at shape (1, 3, 480, 640)\n",
      "\n",
      "0: 480x640 1 person, 1 chair, 1 cell phone, 126.6ms\n",
      "Speed: 2.0ms preprocess, 126.6ms inference, 2.0ms postprocess per image at shape (1, 3, 480, 640)\n",
      "\n"
     ]
    },
    {
     "name": "stdout",
     "output_type": "stream",
     "text": [
      "Confidence ---> 0.8\n",
      "Class name --> person\n",
      "Confidence ---> 0.64\n",
      "Class name --> cell phone\n",
      "Confidence ---> 0.58\n",
      "Class name --> chair\n",
      "Confidence ---> 0.28\n",
      "Class name --> bottle\n",
      "Confidence ---> 0.77\n",
      "Class name --> person\n",
      "Confidence ---> 0.73\n",
      "Class name --> cell phone\n",
      "Confidence ---> 0.5\n",
      "Class name --> chair\n"
     ]
    },
    {
     "name": "stderr",
     "output_type": "stream",
     "text": [
      "0: 480x640 1 person, 1 chair, 1 cell phone, 139.8ms\n",
      "Speed: 2.0ms preprocess, 139.8ms inference, 2.0ms postprocess per image at shape (1, 3, 480, 640)\n",
      "\n",
      "0: 480x640 2 persons, 1 chair, 136.9ms\n",
      "Speed: 2.0ms preprocess, 136.9ms inference, 2.0ms postprocess per image at shape (1, 3, 480, 640)\n",
      "\n"
     ]
    },
    {
     "name": "stdout",
     "output_type": "stream",
     "text": [
      "Confidence ---> 0.79\n",
      "Class name --> person\n",
      "Confidence ---> 0.65\n",
      "Class name --> cell phone\n",
      "Confidence ---> 0.48\n",
      "Class name --> chair\n",
      "Confidence ---> 0.82\n",
      "Class name --> person\n",
      "Confidence ---> 0.36\n",
      "Class name --> person\n",
      "Confidence ---> 0.35\n",
      "Class name --> chair\n"
     ]
    },
    {
     "name": "stderr",
     "output_type": "stream",
     "text": [
      "0: 480x640 1 person, 1 bottle, 1 chair, 305.7ms\n",
      "Speed: 4.0ms preprocess, 305.7ms inference, 4.0ms postprocess per image at shape (1, 3, 480, 640)\n",
      "\n"
     ]
    },
    {
     "name": "stdout",
     "output_type": "stream",
     "text": [
      "Confidence ---> 0.67\n",
      "Class name --> person\n",
      "Confidence ---> 0.61\n",
      "Class name --> chair\n",
      "Confidence ---> 0.3\n",
      "Class name --> bottle\n"
     ]
    },
    {
     "name": "stderr",
     "output_type": "stream",
     "text": [
      "0: 480x640 1 person, 1 chair, 295.8ms\n",
      "Speed: 6.0ms preprocess, 295.8ms inference, 3.0ms postprocess per image at shape (1, 3, 480, 640)\n",
      "\n"
     ]
    },
    {
     "name": "stdout",
     "output_type": "stream",
     "text": [
      "Confidence ---> 0.91\n",
      "Class name --> person\n",
      "Confidence ---> 0.4\n",
      "Class name --> chair\n"
     ]
    },
    {
     "name": "stderr",
     "output_type": "stream",
     "text": [
      "0: 480x640 1 person, 1 bottle, 300.8ms\n",
      "Speed: 5.5ms preprocess, 300.8ms inference, 5.0ms postprocess per image at shape (1, 3, 480, 640)\n",
      "\n"
     ]
    },
    {
     "name": "stdout",
     "output_type": "stream",
     "text": [
      "Confidence ---> 0.92\n",
      "Class name --> person\n",
      "Confidence ---> 0.29\n",
      "Class name --> bottle\n"
     ]
    },
    {
     "name": "stderr",
     "output_type": "stream",
     "text": [
      "0: 480x640 1 person, 1 chair, 274.2ms\n",
      "Speed: 5.0ms preprocess, 274.2ms inference, 5.5ms postprocess per image at shape (1, 3, 480, 640)\n",
      "\n"
     ]
    },
    {
     "name": "stdout",
     "output_type": "stream",
     "text": [
      "Confidence ---> 0.92\n",
      "Class name --> person\n",
      "Confidence ---> 0.58\n",
      "Class name --> chair\n"
     ]
    },
    {
     "name": "stderr",
     "output_type": "stream",
     "text": [
      "0: 480x640 1 person, 1 chair, 295.0ms\n",
      "Speed: 5.0ms preprocess, 295.0ms inference, 6.0ms postprocess per image at shape (1, 3, 480, 640)\n",
      "\n"
     ]
    },
    {
     "name": "stdout",
     "output_type": "stream",
     "text": [
      "Confidence ---> 0.9\n",
      "Class name --> person\n",
      "Confidence ---> 0.37\n",
      "Class name --> chair\n"
     ]
    },
    {
     "name": "stderr",
     "output_type": "stream",
     "text": [
      "0: 480x640 1 person, 297.0ms\n",
      "Speed: 4.0ms preprocess, 297.0ms inference, 5.0ms postprocess per image at shape (1, 3, 480, 640)\n",
      "\n"
     ]
    },
    {
     "name": "stdout",
     "output_type": "stream",
     "text": [
      "Confidence ---> 0.93\n",
      "Class name --> person\n"
     ]
    },
    {
     "name": "stderr",
     "output_type": "stream",
     "text": [
      "0: 480x640 1 person, 1 chair, 291.6ms\n",
      "Speed: 4.0ms preprocess, 291.6ms inference, 5.0ms postprocess per image at shape (1, 3, 480, 640)\n",
      "\n"
     ]
    },
    {
     "name": "stdout",
     "output_type": "stream",
     "text": [
      "Confidence ---> 0.92\n",
      "Class name --> person\n",
      "Confidence ---> 0.28\n",
      "Class name --> chair\n"
     ]
    },
    {
     "name": "stderr",
     "output_type": "stream",
     "text": [
      "0: 480x640 1 person, 1 chair, 290.1ms\n",
      "Speed: 6.3ms preprocess, 290.1ms inference, 5.0ms postprocess per image at shape (1, 3, 480, 640)\n",
      "\n"
     ]
    },
    {
     "name": "stdout",
     "output_type": "stream",
     "text": [
      "Confidence ---> 0.89\n",
      "Class name --> person\n",
      "Confidence ---> 0.38\n",
      "Class name --> chair\n"
     ]
    },
    {
     "name": "stderr",
     "output_type": "stream",
     "text": [
      "0: 480x640 1 person, 296.7ms\n",
      "Speed: 4.0ms preprocess, 296.7ms inference, 6.0ms postprocess per image at shape (1, 3, 480, 640)\n",
      "\n"
     ]
    },
    {
     "name": "stdout",
     "output_type": "stream",
     "text": [
      "Confidence ---> 0.91\n",
      "Class name --> person\n"
     ]
    },
    {
     "name": "stderr",
     "output_type": "stream",
     "text": [
      "0: 480x640 1 person, 1 chair, 290.3ms\n",
      "Speed: 4.0ms preprocess, 290.3ms inference, 5.4ms postprocess per image at shape (1, 3, 480, 640)\n",
      "\n"
     ]
    },
    {
     "name": "stdout",
     "output_type": "stream",
     "text": [
      "Confidence ---> 0.91\n",
      "Class name --> person\n",
      "Confidence ---> 0.58\n",
      "Class name --> chair\n"
     ]
    },
    {
     "name": "stderr",
     "output_type": "stream",
     "text": [
      "0: 480x640 1 person, 1 chair, 281.5ms\n",
      "Speed: 3.3ms preprocess, 281.5ms inference, 6.0ms postprocess per image at shape (1, 3, 480, 640)\n",
      "\n"
     ]
    },
    {
     "name": "stdout",
     "output_type": "stream",
     "text": [
      "Confidence ---> 0.9\n",
      "Class name --> person\n",
      "Confidence ---> 0.41\n",
      "Class name --> chair\n"
     ]
    },
    {
     "name": "stderr",
     "output_type": "stream",
     "text": [
      "0: 480x640 1 person, 1 chair, 293.7ms\n",
      "Speed: 4.0ms preprocess, 293.7ms inference, 5.0ms postprocess per image at shape (1, 3, 480, 640)\n",
      "\n"
     ]
    },
    {
     "name": "stdout",
     "output_type": "stream",
     "text": [
      "Confidence ---> 0.87\n",
      "Class name --> person\n",
      "Confidence ---> 0.68\n",
      "Class name --> chair\n"
     ]
    },
    {
     "name": "stderr",
     "output_type": "stream",
     "text": [
      "0: 480x640 1 person, 1 chair, 310.4ms\n",
      "Speed: 5.0ms preprocess, 310.4ms inference, 5.0ms postprocess per image at shape (1, 3, 480, 640)\n",
      "\n"
     ]
    },
    {
     "name": "stdout",
     "output_type": "stream",
     "text": [
      "Confidence ---> 0.92\n",
      "Class name --> person\n",
      "Confidence ---> 0.41\n",
      "Class name --> chair\n"
     ]
    },
    {
     "name": "stderr",
     "output_type": "stream",
     "text": [
      "0: 480x640 1 person, 1 chair, 401.2ms\n",
      "Speed: 4.0ms preprocess, 401.2ms inference, 5.0ms postprocess per image at shape (1, 3, 480, 640)\n",
      "\n"
     ]
    },
    {
     "name": "stdout",
     "output_type": "stream",
     "text": [
      "Confidence ---> 0.93\n",
      "Class name --> person\n",
      "Confidence ---> 0.42\n",
      "Class name --> chair\n"
     ]
    },
    {
     "name": "stderr",
     "output_type": "stream",
     "text": [
      "0: 480x640 1 person, 1 chair, 279.0ms\n",
      "Speed: 4.0ms preprocess, 279.0ms inference, 5.3ms postprocess per image at shape (1, 3, 480, 640)\n",
      "\n"
     ]
    },
    {
     "name": "stdout",
     "output_type": "stream",
     "text": [
      "Confidence ---> 0.92\n",
      "Class name --> person\n",
      "Confidence ---> 0.39\n",
      "Class name --> chair\n"
     ]
    },
    {
     "name": "stderr",
     "output_type": "stream",
     "text": [
      "0: 480x640 1 person, 1 chair, 285.1ms\n",
      "Speed: 6.0ms preprocess, 285.1ms inference, 6.1ms postprocess per image at shape (1, 3, 480, 640)\n",
      "\n"
     ]
    },
    {
     "name": "stdout",
     "output_type": "stream",
     "text": [
      "Confidence ---> 0.93\n",
      "Class name --> person\n",
      "Confidence ---> 0.37\n",
      "Class name --> chair\n"
     ]
    },
    {
     "name": "stderr",
     "output_type": "stream",
     "text": [
      "0: 480x640 1 person, 1 chair, 275.0ms\n",
      "Speed: 4.0ms preprocess, 275.0ms inference, 5.0ms postprocess per image at shape (1, 3, 480, 640)\n",
      "\n"
     ]
    },
    {
     "name": "stdout",
     "output_type": "stream",
     "text": [
      "Confidence ---> 0.91\n",
      "Class name --> person\n",
      "Confidence ---> 0.36\n",
      "Class name --> chair\n"
     ]
    },
    {
     "name": "stderr",
     "output_type": "stream",
     "text": [
      "0: 480x640 1 person, 1 chair, 297.5ms\n",
      "Speed: 4.0ms preprocess, 297.5ms inference, 5.0ms postprocess per image at shape (1, 3, 480, 640)\n",
      "\n"
     ]
    },
    {
     "name": "stdout",
     "output_type": "stream",
     "text": [
      "Confidence ---> 0.91\n",
      "Class name --> person\n",
      "Confidence ---> 0.33\n",
      "Class name --> chair\n"
     ]
    },
    {
     "name": "stderr",
     "output_type": "stream",
     "text": [
      "0: 480x640 1 person, 1 bottle, 1 chair, 285.3ms\n",
      "Speed: 6.0ms preprocess, 285.3ms inference, 6.0ms postprocess per image at shape (1, 3, 480, 640)\n",
      "\n"
     ]
    },
    {
     "name": "stdout",
     "output_type": "stream",
     "text": [
      "Confidence ---> 0.91\n",
      "Class name --> person\n",
      "Confidence ---> 0.59\n",
      "Class name --> chair\n",
      "Confidence ---> 0.3\n",
      "Class name --> bottle\n"
     ]
    },
    {
     "name": "stderr",
     "output_type": "stream",
     "text": [
      "0: 480x640 1 person, 1 chair, 305.7ms\n",
      "Speed: 3.0ms preprocess, 305.7ms inference, 6.0ms postprocess per image at shape (1, 3, 480, 640)\n",
      "\n"
     ]
    },
    {
     "name": "stdout",
     "output_type": "stream",
     "text": [
      "Confidence ---> 0.9\n",
      "Class name --> person\n",
      "Confidence ---> 0.36\n",
      "Class name --> chair\n"
     ]
    },
    {
     "name": "stderr",
     "output_type": "stream",
     "text": [
      "0: 480x640 1 person, 316.7ms\n",
      "Speed: 6.0ms preprocess, 316.7ms inference, 5.6ms postprocess per image at shape (1, 3, 480, 640)\n",
      "\n"
     ]
    },
    {
     "name": "stdout",
     "output_type": "stream",
     "text": [
      "Confidence ---> 0.9\n",
      "Class name --> person\n"
     ]
    },
    {
     "name": "stderr",
     "output_type": "stream",
     "text": [
      "0: 480x640 1 person, 1 chair, 303.8ms\n",
      "Speed: 4.0ms preprocess, 303.8ms inference, 8.0ms postprocess per image at shape (1, 3, 480, 640)\n",
      "\n"
     ]
    },
    {
     "name": "stdout",
     "output_type": "stream",
     "text": [
      "Confidence ---> 0.91\n",
      "Class name --> person\n",
      "Confidence ---> 0.26\n",
      "Class name --> chair\n"
     ]
    },
    {
     "name": "stderr",
     "output_type": "stream",
     "text": [
      "0: 480x640 1 person, 1 bottle, 1 chair, 303.6ms\n",
      "Speed: 4.0ms preprocess, 303.6ms inference, 5.0ms postprocess per image at shape (1, 3, 480, 640)\n",
      "\n",
      "0: 480x640 1 person, 1 chair, 159.7ms\n"
     ]
    },
    {
     "name": "stdout",
     "output_type": "stream",
     "text": [
      "Confidence ---> 0.9\n",
      "Class name --> person\n",
      "Confidence ---> 0.33\n",
      "Class name --> bottle\n",
      "Confidence ---> 0.31\n",
      "Class name --> chair\n",
      "Confidence ---> 0.91\n",
      "Class name --> person\n",
      "Confidence ---> 0.46\n",
      "Class name --> chair\n"
     ]
    },
    {
     "name": "stderr",
     "output_type": "stream",
     "text": [
      "Speed: 7.0ms preprocess, 159.7ms inference, 3.0ms postprocess per image at shape (1, 3, 480, 640)\n",
      "\n",
      "0: 480x640 1 person, 1 bottle, 1 chair, 130.5ms\n",
      "Speed: 1.7ms preprocess, 130.5ms inference, 2.0ms postprocess per image at shape (1, 3, 480, 640)\n",
      "\n",
      "0: 480x640 1 person, 1 chair, 126.8ms\n",
      "Speed: 2.3ms preprocess, 126.8ms inference, 2.0ms postprocess per image at shape (1, 3, 480, 640)\n",
      "\n"
     ]
    },
    {
     "name": "stdout",
     "output_type": "stream",
     "text": [
      "Confidence ---> 0.9\n",
      "Class name --> person\n",
      "Confidence ---> 0.52\n",
      "Class name --> chair\n",
      "Confidence ---> 0.3\n",
      "Class name --> bottle\n",
      "Confidence ---> 0.9\n",
      "Class name --> person\n",
      "Confidence ---> 0.53\n",
      "Class name --> chair\n"
     ]
    },
    {
     "name": "stderr",
     "output_type": "stream",
     "text": [
      "0: 480x640 1 person, 129.3ms\n",
      "Speed: 3.1ms preprocess, 129.3ms inference, 2.0ms postprocess per image at shape (1, 3, 480, 640)\n",
      "\n",
      "0: 480x640 1 person, 2 chairs, 155.6ms\n"
     ]
    },
    {
     "name": "stdout",
     "output_type": "stream",
     "text": [
      "Confidence ---> 0.91\n",
      "Class name --> person\n",
      "Confidence ---> 0.9\n",
      "Class name --> person\n",
      "Confidence ---> 0.49\n",
      "Class name --> chair\n",
      "Confidence ---> 0.32\n",
      "Class name --> chair\n"
     ]
    },
    {
     "name": "stderr",
     "output_type": "stream",
     "text": [
      "Speed: 3.0ms preprocess, 155.6ms inference, 1.0ms postprocess per image at shape (1, 3, 480, 640)\n",
      "\n",
      "0: 480x640 1 person, 1 chair, 116.5ms\n",
      "Speed: 2.0ms preprocess, 116.5ms inference, 2.0ms postprocess per image at shape (1, 3, 480, 640)\n"
     ]
    },
    {
     "name": "stdout",
     "output_type": "stream",
     "text": [
      "Confidence ---> 0.91\n",
      "Class name --> person\n",
      "Confidence ---> 0.63\n",
      "Class name --> chair\n"
     ]
    }
   ],
   "source": [
    "from ultralytics import YOLO\n",
    "import cv2\n",
    "import math\n",
    "obj=[]\n",
    "# start webcam\n",
    "cap = cv2.VideoCapture(0)\n",
    "cap.set(3, 640)\n",
    "cap.set(4, 480)\n",
    "\n",
    "# model\n",
    "model = YOLO(\"yolo-Weights/yolov8n.pt\")\n",
    "\n",
    "# object classes\n",
    "classNames = [\"person\", \"bicycle\", \"car\", \"motorbike\", \"aeroplane\", \"bus\", \"train\", \"truck\", \"boat\",\n",
    "              \"traffic light\", \"fire hydrant\", \"stop sign\", \"parking meter\", \"bench\", \"bird\", \"cat\",\n",
    "              \"dog\", \"horse\", \"sheep\", \"cow\", \"elephant\", \"bear\", \"zebra\", \"giraffe\", \"backpack\", \"umbrella\",\n",
    "              \"handbag\", \"tie\", \"suitcase\", \"frisbee\", \"skis\", \"snowboard\", \"sports ball\", \"kite\", \"baseball bat\",\n",
    "              \"baseball glove\", \"skateboard\", \"surfboard\", \"tennis racket\", \"bottle\", \"wine glass\", \"cup\",\n",
    "              \"fork\", \"knife\", \"spoon\", \"bowl\", \"banana\", \"apple\", \"sandwich\", \"orange\", \"broccoli\",\n",
    "              \"carrot\", \"hot dog\", \"pizza\", \"donut\", \"cake\", \"chair\", \"sofa\", \"pottedplant\", \"bed\",\n",
    "              \"diningtable\", \"toilet\", \"tvmonitor\", \"laptop\", \"mouse\", \"remote\", \"keyboard\", \"cell phone\",\n",
    "              \"microwave\", \"oven\", \"toaster\", \"sink\", \"refrigerator\", \"book\", \"clock\", \"vase\", \"scissors\",\n",
    "              \"teddy bear\", \"hair drier\", \"toothbrush\"\n",
    "              ]\n",
    "\n",
    "\n",
    "while True:\n",
    "    success, img = cap.read()\n",
    "    results = model(img, stream=True)\n",
    "\n",
    "    # coordinates\n",
    "    for r in results:\n",
    "        boxes = r.boxes\n",
    "\n",
    "        for box in boxes:\n",
    "            # bounding box\n",
    "            x1, y1, x2, y2 = box.xyxy[0]\n",
    "            x1, y1, x2, y2 = int(x1), int(y1), int(x2), int(y2) # convert to int values\n",
    "\n",
    "            # put box in cam\n",
    "            cv2.rectangle(img, (x1, y1), (x2, y2), (255, 0, 255), 3)\n",
    "\n",
    "            # confidence\n",
    "            confidence = math.ceil((box.conf[0]*100))/100\n",
    "            print(\"Confidence --->\",confidence)\n",
    "\n",
    "            # class name\n",
    "            cls = int(box.cls[0])\n",
    "            print(\"Class name -->\", classNames[cls])\n",
    "            obj.append(classNames[cls])\n",
    "\n",
    "            # object details\n",
    "            org = [x1, y1]\n",
    "            font = cv2.FONT_HERSHEY_SIMPLEX\n",
    "            fontScale = 1\n",
    "            color = (255, 0, 0)\n",
    "            thickness = 2\n",
    "\n",
    "            cv2.putText(img, classNames[cls], org, font, fontScale, color, thickness)\n",
    "\n",
    "    cv2.imshow('Webcam', img)\n",
    "    if cv2.waitKey(1) == ord('q'):\n",
    "        break\n",
    "\n",
    "cap.release()\n",
    "cv2.destroyAllWindows()"
   ]
  },
  {
   "cell_type": "code",
   "execution_count": 6,
   "metadata": {},
   "outputs": [
    {
     "name": "stdout",
     "output_type": "stream",
     "text": [
      "['person', 'bottle', 'chair', 'person', 'person', 'person', 'person', 'person', 'person', 'person', 'person', 'person', 'person', 'person', 'person', 'teddy bear', 'person', 'teddy bear', 'bottle', 'person', 'teddy bear', 'chair', 'person', 'chair', 'person', 'teddy bear', 'chair', 'person', 'chair', 'person', 'chair', 'person', 'person', 'bottle', 'chair', 'person', 'teddy bear', 'person', 'chair', 'person', 'teddy bear', 'chair', 'person', 'chair', 'bottle', 'teddy bear', 'person', 'teddy bear', 'person', 'chair', 'teddy bear', 'person', 'person', 'bottle', 'person', 'teddy bear', 'chair', 'person', 'bottle', 'person', 'teddy bear', 'bottle', 'person', 'teddy bear', 'bottle', 'person', 'person', 'person', 'bottle', 'person', 'person', 'person', 'person', 'person', 'person', 'bottle', 'person', 'person', 'person', 'teddy bear', 'person', 'person', 'teddy bear', 'person', 'person', 'teddy bear', 'bottle', 'person', 'person', 'person', 'teddy bear', 'chair', 'person', 'teddy bear', 'bottle', 'chair', 'person', 'chair', 'teddy bear', 'person', 'person', 'bottle', 'chair', 'person', 'teddy bear', 'person', 'person', 'chair', 'person', 'person', 'person', 'chair', 'person', 'person', 'person', 'person', 'person', 'person', 'teddy bear', 'bottle', 'person', 'person', 'person', 'person', 'person', 'person', 'person', 'person', 'bottle', 'person', 'chair', 'person', 'person', 'person', 'person', 'person', 'teddy bear', 'person', 'person', 'person', 'chair', 'chair', 'person', 'person', 'chair', 'person', 'teddy bear', 'person', 'bottle', 'person', 'person', 'person', 'teddy bear', 'person', 'person', 'bottle', 'person', 'person', 'chair', 'person', 'person', 'person', 'toothbrush', 'person', 'person', 'person', 'person', 'person', 'bottle', 'person', 'person', 'person', 'person', 'bottle', 'person', 'person', 'cell phone', 'cell phone', 'cell phone', 'person', 'person', 'chair', 'bottle', 'chair', 'person', 'bottle', 'person', 'person', 'tie', 'bottle', 'person', 'person', 'person', 'cell phone', 'bottle', 'person', 'bottle', 'cell phone', 'person', 'person', 'person', 'cell phone', 'bottle', 'person', 'person', 'cell phone', 'person', 'cell phone', 'person', 'person', 'chair', 'person', 'person', 'person', 'chair', 'person', 'chair', 'person', 'chair', 'person', 'chair', 'person', 'chair', 'bottle', 'person', 'chair', 'person', 'person', 'chair', 'person', 'chair', 'person', 'chair', 'tvmonitor', 'person', 'chair', 'person', 'chair', 'tvmonitor', 'chair', 'person', 'chair', 'bottle', 'cell phone', 'person', 'cell phone', 'chair', 'person', 'cell phone', 'chair', 'person', 'chair', 'cell phone', 'chair', 'person', 'cell phone', 'chair', 'person', 'cell phone', 'chair', 'bottle', 'person', 'cell phone', 'chair', 'chair', 'person', 'cell phone', 'chair', 'bottle', 'person', 'cell phone', 'chair', 'person', 'cell phone', 'chair', 'chair', 'tvmonitor', 'bottle', 'person', 'cell phone', 'chair', 'cell phone', 'person', 'chair', 'person', 'cell phone', 'bottle', 'person', 'chair', 'cell phone', 'person', 'cell phone', 'chair', 'person', 'cell phone', 'chair', 'bottle', 'person', 'cell phone', 'chair', 'bottle', 'person', 'cell phone', 'chair', 'person', 'cell phone', 'chair', 'person', 'person', 'chair', 'person', 'chair', 'bottle', 'person', 'chair', 'person', 'bottle', 'person', 'chair', 'person', 'chair', 'person', 'person', 'chair', 'person', 'chair', 'person', 'person', 'chair', 'person', 'chair', 'person', 'chair', 'person', 'chair', 'person', 'chair', 'person', 'chair', 'person', 'chair', 'person', 'chair', 'person', 'chair', 'person', 'chair', 'bottle', 'person', 'chair', 'person', 'person', 'chair', 'person', 'bottle', 'chair', 'person', 'chair', 'person', 'chair', 'bottle', 'person', 'chair', 'person', 'person', 'chair', 'chair', 'person', 'chair']\n"
     ]
    }
   ],
   "source": [
    "print(obj)"
   ]
  },
  {
   "cell_type": "code",
   "execution_count": 7,
   "metadata": {},
   "outputs": [
    {
     "data": {
      "text/plain": [
       "369"
      ]
     },
     "execution_count": 7,
     "metadata": {},
     "output_type": "execute_result"
    }
   ],
   "source": [
    "len(obj)"
   ]
  },
  {
   "cell_type": "code",
   "execution_count": 8,
   "metadata": {},
   "outputs": [],
   "source": [
    "import numpy as np\n",
    "ans=np.unique(obj)"
   ]
  },
  {
   "cell_type": "code",
   "execution_count": 9,
   "metadata": {},
   "outputs": [
    {
     "name": "stdout",
     "output_type": "stream",
     "text": [
      "['bottle' 'cell phone' 'chair' 'person' 'teddy bear' 'tie' 'toothbrush' 'tvmonitor']\n"
     ]
    }
   ],
   "source": [
    "print(ans)"
   ]
  },
  {
   "cell_type": "code",
   "execution_count": 10,
   "metadata": {},
   "outputs": [],
   "source": [
    "dict1 = {\n",
    "            'person' : 1,\n",
    "            'bicycle' : 2,\n",
    "            'car' : 3,\n",
    "            'motorbike' : 4,\n",
    "            'aeroplane' : 5,\n",
    "            'bus' : 6,\n",
    "            'train' : 7,\n",
    "            'truck' : 8,\n",
    "            'boat' : 9,\n",
    "            'traffic light' : 10,\n",
    "            'fire hydrant' : 11,\n",
    "            'stop sign' : 12,\n",
    "            'parking meter' : 13,\n",
    "            'bench' : 14,\n",
    "            'bird' : 15,\n",
    "            'cat' : 16,\n",
    "            'dog' : 17,\n",
    "            'horse' : 18,\n",
    "            'sheep' : 19,\n",
    "            'cow' : 20,\n",
    "            'elephant' : 21,\n",
    "            'bear' : 22,\n",
    "            'zebra' : 23,\n",
    "            'giraffe' : 24,\n",
    "            'backpack' : 25,\n",
    "            'umbrella' : 26,\n",
    "            'handbag' : 27,\n",
    "            'tie' : 28,\n",
    "            'suitcase' : 29,\n",
    "            'frisbee' : 30,\n",
    "            'skis' : 31,\n",
    "            'snowboard' : 32,\n",
    "            'sports ball' : 33,\n",
    "            'kite' : 34,\n",
    "            'baseball bat' : 35,\n",
    "            'baseball glove' : 36,\n",
    "            'skateboard' : 37,\n",
    "            'surfboard' : 38,\n",
    "            'tennis racket' : 39,\n",
    "            'bottle' : 40,\n",
    "            'wine glass' : 41,\n",
    "            'cup' : 42,\n",
    "            'fork' : 43,\n",
    "            'knife' : 44,\n",
    "            'spoon' : 45,\n",
    "            'bowl' : 46,\n",
    "            'banana' : 47,\n",
    "            'apple' : 48,\n",
    "            'sandwich' : 49,\n",
    "            'orange' : 50,\n",
    "            'broccoli' : 51,\n",
    "            'carrot' : 52,\n",
    "            'hot dog' : 53,\n",
    "            'pizza' : 54,\n",
    "            'donut' : 55,\n",
    "            'cake' : 56,\n",
    "            'chair' : 57,\n",
    "            'sofa' : 58,\n",
    "            'pottedplant' : 59,\n",
    "            'bed' : 60,\n",
    "            'diningtable' : 61,\n",
    "            'toilet' : 62,\n",
    "            'tvmonitor' : 63,\n",
    "            'laptop' : 64,\n",
    "            'mouse' : 65,\n",
    "            'remote' : 66,\n",
    "            'keyboard' : 67,\n",
    "            'cell phone' : 68,\n",
    "            'microwave' : 69,\n",
    "            'oven' : 70,\n",
    "            'toaster' : 71,\n",
    "            'sink' : 72,\n",
    "            'refrigerator' : 73,\n",
    "            'book' : 74,\n",
    "            'clock' : 75,\n",
    "            'vase' : 76,\n",
    "            'scissors' : 77,\n",
    "            'teddy bear' : 78,\n",
    "            'hair drier' : 79,\n",
    "            'toothbrush' : 80\n",
    "\n",
    "}\n",
    "\n",
    "\n",
    "dict2 = {\n",
    "             1 : 'The detected object is person',\n",
    "             2 : 'The detected object is bicycle',\n",
    "             3 : 'The detected object is car',\n",
    "             4 : 'The detected object is motorbike',\n",
    "             5 : 'The detected object is aeroplane',\n",
    "             6 : 'The detected object is bus',\n",
    "             7 : 'The detected object is train',\n",
    "             8 : 'The detected object is truck',\n",
    "             9 : 'The detected object is boat',\n",
    "             10 : 'The detected object is traffic light',\n",
    "             11 : 'The detected object is fire hydrant',\n",
    "             12 : 'The detected object is stop sign',\n",
    "             13 : 'The detected object is parking meter',\n",
    "             14 : 'The detected object is bench',\n",
    "             15 : 'The detected object is bird',\n",
    "             16 : 'The detected object is cat',\n",
    "             17 : 'The detected object is dog',\n",
    "             18 : 'The detected object is horse',\n",
    "             19 : 'The detected object is sheep',\n",
    "             20 : 'The detected object is cow',\n",
    "             21 : 'The detected object is elephant',\n",
    "             22 : 'The detected object is bear',\n",
    "             23 : 'The detected object is zebra',\n",
    "             24 : 'The detected object is giraffe',\n",
    "             25 : 'The detected object is backpack',\n",
    "             26 : 'The detected object is umbrella',\n",
    "             27 : 'The detected object is handbag',\n",
    "             28 : 'The detected object is tie',\n",
    "             29 : 'The detected object is suitcase',\n",
    "             30 : 'The detected object is frisbee',\n",
    "             31 : 'The detected object is skis',\n",
    "             32 : 'The detected object is snowboard',\n",
    "             33 : 'The detected object is sports ball',\n",
    "             34 : 'The detected object is kite',\n",
    "             35 : 'The detected object is baseball bat',\n",
    "             36 : 'The detected object is baseball glove',\n",
    "             37 : 'The detected object is skateboard',\n",
    "             38 : 'The detected object is surfboard',\n",
    "             39 : 'The detected object is tennis racket',\n",
    "             40 : 'The detected object is bottle',\n",
    "             41 : 'The detected object is wine glass',\n",
    "             42 : 'The detected object is cup',\n",
    "             43 : 'The detected object is fork',\n",
    "             44 : 'The detected object is knife',\n",
    "             45 : 'The detected object is spoon',\n",
    "             46 : 'The detected object is bowl',\n",
    "             47 : 'The detected object is banana',\n",
    "             48 : 'The detected object is apple',\n",
    "             49 : 'The detected object is sandwich',\n",
    "             50 : 'The detected object is orange',\n",
    "             51 : 'The detected object is broccoli',\n",
    "             52 : 'The detected object is carrot',\n",
    "             53 : 'The detected object is hot dog',\n",
    "             54 : 'The detected object is pizza',\n",
    "             55 : 'The detected object is donut',\n",
    "             56 : 'The detected object is cake',\n",
    "             57 : 'The detected object is chair',\n",
    "             58 : 'The detected object is sofa',\n",
    "             59 : 'The detected object is pottedplant',\n",
    "             60 : 'The detected object is bed',\n",
    "             61 : 'The detected object is diningtable',\n",
    "             62 : 'The detected object is toilet',\n",
    "             63 : 'The detected object is tvmonitor',\n",
    "             64 : 'The detected object is laptop',\n",
    "             65 : 'The detected object is mouse',\n",
    "             66 : 'The detected object is remote',\n",
    "             67 : 'The detected object is keyboard',\n",
    "             68 : 'The detected object is cell phone',\n",
    "             69 : 'The detected object is microwave',\n",
    "             70 : 'The detected object is oven',\n",
    "             71 : 'The detected object is toaster',\n",
    "             72 : 'The detected object is sink',\n",
    "             73 : 'The detected object is refrigerator',\n",
    "             74 : 'The detected object is book',\n",
    "             75 : 'The detected object is clock',\n",
    "             76 : 'The detected object is vase',\n",
    "             77 : 'The detected object is scissors',\n",
    "             78 : 'The detected object is teddy bear',\n",
    "             79 : 'The detected object is hair drier',\n",
    "             80 : 'The detected object is toothbrush'        \n",
    "}"
   ]
  },
  {
   "cell_type": "code",
   "execution_count": 11,
   "metadata": {},
   "outputs": [],
   "source": [
    "def object_map(class_cat):\n",
    " \n",
    "    return dict1[class_cat]\n",
    "\n",
    "def voice_map(cat_no):\n",
    "    \n",
    "    res = object_map(cat_no)\n",
    "    return dict2[res]"
   ]
  },
  {
   "cell_type": "code",
   "execution_count": 12,
   "metadata": {},
   "outputs": [],
   "source": [
    "import time\n",
    "import playsound"
   ]
  },
  {
   "cell_type": "code",
   "execution_count": 13,
   "metadata": {},
   "outputs": [
    {
     "name": "stdout",
     "output_type": "stream",
     "text": [
      "The detected object is bottle\n"
     ]
    },
    {
     "name": "stdout",
     "output_type": "stream",
     "text": [
      "The detected object is cell phone\n",
      "The detected object is chair\n",
      "The detected object is person\n",
      "The detected object is teddy bear\n",
      "The detected object is tie\n",
      "The detected object is toothbrush\n",
      "The detected object is tvmonitor\n"
     ]
    }
   ],
   "source": [
    "for i in ans:\n",
    "    print(voice_map(i))\n",
    "    voice = (voice_map(i))\n",
    "    myobj =gTTS(text=voice, lang='en', slow=False)\n",
    "    \n",
    "    # os.remove(\"Welcome.mp3\")   \n",
    "    time.sleep(0.5)\n",
    "    filename = \"Welcome_{k}.mp3\".format(k=i) \n",
    "    # i+=1   \n",
    "    myobj.save(filename)\n",
    "    time.sleep(0.5)                    \n",
    "    playsound.playsound(filename)\n",
    "    # os.system(\"mpg321 Welcome.mp3\")\n",
    "    time.sleep(0.1) \n",
    "    os.remove(filename)\n"
   ]
  },
  {
   "cell_type": "code",
   "execution_count": null,
   "metadata": {},
   "outputs": [],
   "source": []
  }
 ],
 "metadata": {
  "kernelspec": {
   "display_name": "Python 3",
   "language": "python",
   "name": "python3"
  },
  "language_info": {
   "codemirror_mode": {
    "name": "ipython",
    "version": 3
   },
   "file_extension": ".py",
   "mimetype": "text/x-python",
   "name": "python",
   "nbconvert_exporter": "python",
   "pygments_lexer": "ipython3",
   "version": "3.11.4"
  },
  "orig_nbformat": 4
 },
 "nbformat": 4,
 "nbformat_minor": 2
}
